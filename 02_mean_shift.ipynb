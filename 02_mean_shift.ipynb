{
 "cells": [
  {
   "cell_type": "markdown",
   "metadata": {
    "deletable": false,
    "editable": false,
    "nbgrader": {
     "cell_type": "markdown",
     "checksum": "cbbebe255c061f1df61dbfda9ea04692",
     "grade": false,
     "grade_id": "cell-3f7c04052f69174a",
     "locked": true,
     "schema_version": 3,
     "solution": false,
     "task": false
    }
   },
   "source": [
    "# Mean-Shift Clustering and Segmentation\n",
    "\n",
    "In the first part of this task you will implement the *mean-shift* clustering algorithm in a general way (not specifically for anything to do with images, just simply for n-dimensional data points).\n",
    "\n",
    "Then in the second part you will apply mean-shift for image segmentation, by clustering data points that represent pixels (e.g. the colors).\n",
    "\n",
    "### Recap from the lecture\n",
    "The *mean-shift* algorithm clusters an $n$-dimensional data set (i.e., each data point is described by a feature vector of $n$ values) by associating each point with a peak in the estimated probability density of the dataset's distribution. Points associated with the \"same\" peak (up to some small threshold) become members of the same cluster.\n",
    "\n",
    "For each point, mean-shift finds the associated peak by first defining a spherical window of radius $r$ centered on that point, and computing the **mean** of the points that lie within the window. The algorithm then **shifts** the window to be centered on that mean and repeats these steps until convergence, i.e., until the shift is smaller than a specified threshold. At each iteration the window shifts to a more densely populated portion of the data set until a peak is reached, where the data is approximately equally distributed in the window.\n",
    "\n",
    "*Important*: Implement the following tasks efficiently, otherwise your code might need hours to run. Avoid loops, instead use numpy-functions when possible."
   ]
  },
  {
   "cell_type": "code",
   "execution_count": 1,
   "metadata": {
    "deletable": false,
    "editable": false,
    "nbgrader": {
     "cell_type": "code",
     "checksum": "a1dca7b7d3487ec5eadafa7c75d41dc0",
     "grade": false,
     "grade_id": "cell-07c7571d66aaa705",
     "locked": true,
     "schema_version": 3,
     "solution": false,
     "task": false
    }
   },
   "outputs": [
    {
     "data": {
      "text/html": [
       "<!-- Run this cell to add heading letters per subtask (like a, b, c) -->\n",
       "<style>\n",
       "body {counter-reset: section;}\n",
       "h2:before {counter-increment: section;\n",
       "           content: counter(section, lower-alpha) \") \";}\n",
       "</style>\n"
      ],
      "text/plain": [
       "<IPython.core.display.HTML object>"
      ]
     },
     "metadata": {},
     "output_type": "display_data"
    }
   ],
   "source": [
    "%%html\n",
    "<!-- Run this cell to add heading letters per subtask (like a, b, c) -->\n",
    "<style>\n",
    "body {counter-reset: section;}\n",
    "h2:before {counter-increment: section;\n",
    "           content: counter(section, lower-alpha) \") \";}\n",
    "</style>"
   ]
  },
  {
   "cell_type": "code",
   "execution_count": 2,
   "metadata": {
    "deletable": false,
    "editable": false,
    "nbgrader": {
     "cell_type": "code",
     "checksum": "2cea01a7337fe044a7dabeb8160ddaa4",
     "grade": false,
     "grade_id": "cell-3ed65422382d86ef",
     "locked": true,
     "schema_version": 3,
     "solution": false,
     "task": false
    }
   },
   "outputs": [],
   "source": [
    "%matplotlib notebook\n",
    "import numpy as np\n",
    "import matplotlib.pyplot as plt\n",
    "import time\n",
    "import imageio\n",
    "from mpl_toolkits.mplot3d import Axes3D\n",
    "import cv2\n",
    "import os"
   ]
  },
  {
   "cell_type": "markdown",
   "metadata": {
    "collapsed": true,
    "deletable": false,
    "editable": false,
    "nbgrader": {
     "cell_type": "markdown",
     "checksum": "f67b2c633c515fbf3756d62785341227",
     "grade": false,
     "grade_id": "cell-f4614aa28ba2543e",
     "locked": true,
     "schema_version": 3,
     "solution": false,
     "task": false
    }
   },
   "source": [
    "## Finding a peak from a query point\n",
    "Implement the peak searching process as the function `find_peak(data, query, radius)` where\n",
    "\n",
    " * `data` is a $p \\times n$ matrix containing $p$ data points; each point is defined by an $n$-dimensional row vector of feature values\n",
    " * `query` is the $n$-dimensional starting point from which we wish to compute a density peak\n",
    " * `radius` is the search window radius.\n",
    "\n",
    "Return the peak as an $n$-dimensional vector once the peak does not change anymore.\n",
    "\n",
    "**Hints:**\n",
    "* Only a single loop (shift while peak is moving) is required in this task.\n",
    "* `np.linalg.norm` computes the Euclidean norm of a vector. You can also apply it to a matrix (which represents a list of vectors) by specifying the `axis` parameter.\n",
    "* NumPy arrays can be indexed with Boolean arrays, e.g. to select only rows that fulfil some criterion."
   ]
  },
  {
   "cell_type": "code",
   "execution_count": 12,
   "metadata": {
    "deletable": false,
    "nbgrader": {
     "cell_type": "code",
     "checksum": "eb3f10c3f20de478dc68f3334a1e55d1",
     "grade": true,
     "grade_id": "cell-456db7ce2d4ca848",
     "locked": false,
     "points": 2,
     "schema_version": 3,
     "solution": true
    }
   },
   "outputs": [],
   "source": [
    "# POINTS: 2\n",
    "%matplotlib inline\n",
    "def find_peak(data, query, radius):\n",
    "    # YOUR CODE HERE\n",
    "    norm = np.linalg.norm(data - query, axis=1)\n",
    "    data_nan = np.copy(data)\n",
    "    data_nan[norm > radius] = np.nan\n",
    "    mean = np.nanmean(data_nan, axis=0)\n",
    "    \n",
    "    if np.all(mean==query):\n",
    "        return mean\n",
    "\n",
    "    return find_peak(data, mean, radius)"
   ]
  },
  {
   "cell_type": "markdown",
   "metadata": {
    "deletable": false,
    "editable": false,
    "nbgrader": {
     "cell_type": "markdown",
     "checksum": "c9f5267b34fdcf194a2cb5e48a56e908",
     "grade": false,
     "grade_id": "cell-62db40e59125552e",
     "locked": true,
     "schema_version": 3,
     "solution": false,
     "task": false
    }
   },
   "source": [
    "We will now use the synthetic dataset `gaussian_mixture_samples_3d.csv` to test your implementation. The data points in this file are 2000 samples from two 3D Gaussian distributions. The following plots only show the projection on the XY plane."
   ]
  },
  {
   "cell_type": "code",
   "execution_count": 13,
   "metadata": {
    "deletable": false,
    "editable": false,
    "nbgrader": {
     "cell_type": "code",
     "checksum": "191b4dc24ec2266b4e6251df2933bf13",
     "grade": false,
     "grade_id": "cell-985a50560171c45b",
     "locked": true,
     "schema_version": 3,
     "solution": false,
     "task": false
    }
   },
   "outputs": [
    {
     "name": "stdout",
     "output_type": "stream",
     "text": [
      "Found peak [-0.06218913  0.05139093  0.03810532]\n",
      "Found peak [-0.05623617  0.05895276  0.03974915]\n",
      "Found peak [5.04059462 4.98140242 5.0179125 ]\n"
     ]
    },
    {
     "data": {
      "image/png": "[encoded data removed]",
      "text/plain": [
       "<Figure size 684x252 with 3 Axes>"
      ]
     },
     "metadata": {
      "needs_background": "light"
     },
     "output_type": "display_data"
    }
   ],
   "source": [
    "data = np.genfromtxt(f'gaussian_mixture_samples_3d.csv', delimiter=',')\n",
    "query_ids = [0, 5, 1500]\n",
    "radius = 2\n",
    "\n",
    "fig, axes = plt.subplots(1, len(query_ids), figsize=(9.5,3.5))\n",
    "for query_id, ax in zip(query_ids, axes):\n",
    "    query = data[query_id]\n",
    "    peak = find_peak(data, query, radius)\n",
    "    print('Found peak', peak)\n",
    "    \n",
    "    ax.scatter(data[:, 0], data[:, 1], marker='.', color='gray')\n",
    "    ax.scatter(query[0], query[1], s=150, linewidth=5,\n",
    "               color='blue', marker='x', label='starting point')\n",
    "    ax.scatter(peak[0], peak[1], color='orange', marker='x',\n",
    "               s=150, linewidth=5, label='found peak')\n",
    "    ax.legend()\n",
    "fig.tight_layout()"
   ]
  },
  {
   "cell_type": "markdown",
   "metadata": {
    "deletable": false,
    "editable": false,
    "nbgrader": {
     "cell_type": "markdown",
     "checksum": "59e3550b8a9c5ebd314d818d4ed0f5a9",
     "grade": false,
     "grade_id": "cell-562f50edf3be564e",
     "locked": true,
     "schema_version": 3,
     "solution": false,
     "task": false
    }
   },
   "source": [
    "## Clustering all points\n",
    "Implement `mean_shift(data, radius)`, which calls `find_peak` for each point and then assigns a label to each point according to its peak.\n",
    "`mean_shift` should return two arrays: `peaks` and `labels`.\n",
    "\n",
    "  * `peaks` is a matrix with $k$ rows and $n$ columns, storing the found density peaks of size $n$, where $k$ is the data-dependent number of clusters found. \n",
    "  * `labels` is a $p$-sized vector that has an entry for each data point, storing its associated cluster label (an integer).\n",
    "\n",
    "Similar peaks within a distance of `radius/2` should be considered the same and should be merged after each call to `find_peak`. More specifically, if the peak computed for a data point already exists in `peaks` (according to the distance threshold), then discard the newly computed peak and give the label of the already existing peak to the considered data point.\n",
    "\n",
    "**Hints:**\n",
    "* Only a single loop (iterating over each point once) is required in this task. (Plus the loop within `find_peak`.)\n",
    "* `np.argmin` gives the index of the smallest value of a vector."
   ]
  },
  {
   "cell_type": "code",
   "execution_count": 14,
   "metadata": {
    "deletable": false,
    "nbgrader": {
     "cell_type": "code",
     "checksum": "826793849248c5a541976a50040d7a52",
     "grade": true,
     "grade_id": "cell-350b0f2a0fb1876f",
     "locked": false,
     "points": 4,
     "schema_version": 3,
     "solution": true
    }
   },
   "outputs": [],
   "source": [
    "# POINTS: 4\n",
    "\n",
    "def mean_shift(data, radius):\n",
    "    labels = np.full(len(data), fill_value=-1, dtype=int)\n",
    "    \n",
    "    # YOUR CODE HERE\n",
    "    peaks = np.zeros((0,data.shape[1]), dtype=float)\n",
    "\n",
    "    for idx, data_point in enumerate(data):\n",
    "        peak = find_peak(data, data_point, radius)\n",
    "        \n",
    "        norm = np.linalg.norm(peaks - peak, axis=1)\n",
    "        if np.any(norm <= (radius/2)) and len(norm) > 0 :\n",
    "            label_idx = np.argmin(norm)\n",
    "            labels[idx] = label_idx\n",
    "            continue\n",
    "            \n",
    "        peaks = np.append(peaks, [peak], axis=0)\n",
    "        labels[idx] = np.max(labels) + 1\n",
    "    \n",
    "    return peaks, labels"
   ]
  },
  {
   "cell_type": "markdown",
   "metadata": {
    "deletable": false,
    "editable": false,
    "nbgrader": {
     "cell_type": "markdown",
     "checksum": "4100a685fd08921fcaacaf120499fae2",
     "grade": false,
     "grade_id": "cell-89fb7fd3b16d054b",
     "locked": true,
     "schema_version": 3,
     "solution": false,
     "task": false
    }
   },
   "source": [
    "Now check the result of your implementation. The found peaks (cluster centers) are shown as black X marks. You can rotate the interactive 3D plots with the mouse (but it may be somewhat slow).\n",
    "\n",
    "Note that each individual clustering should take less than 10 seconds to compute."
   ]
  },
  {
   "cell_type": "code",
   "execution_count": 15,
   "metadata": {
    "deletable": false,
    "editable": false,
    "nbgrader": {
     "cell_type": "code",
     "checksum": "4cee0cd94f9ec5611f9d8dcae3a927c2",
     "grade": false,
     "grade_id": "cell-c7c237e3da0e6ce8",
     "locked": true,
     "schema_version": 3,
     "solution": false,
     "task": false
    }
   },
   "outputs": [
    {
     "data": {
      "image/png": "[encoded data removed]",
      "text/plain": [
       "<Figure size 684x288 with 4 Axes>"
      ]
     },
     "metadata": {
      "needs_background": "light"
     },
     "output_type": "display_data"
    }
   ],
   "source": [
    "def plot_3d_clusters(ax, data, labels, peaks, \n",
    "                     peak_colors=None, colors=None, axis_names='xyz'):\n",
    "    \"\"\"Plots a set of point clusters in 3D, each with different color.\"\"\"\n",
    "\n",
    "    def luv2rgb(color):\n",
    "        expanded = color[np.newaxis, np.newaxis]\n",
    "        rgb = cv2.cvtColor(expanded.astype(np.uint8), cv2.COLOR_LUV2RGB)\n",
    "        return rgb[0,0]/255\n",
    "      \n",
    "    if peak_colors is None:\n",
    "        peak_colors = peaks\n",
    "    \n",
    "    for label in range(len(peaks)):\n",
    "        if colors=='rgb':\n",
    "            cluster_color = color = peak_colors[label]/255\n",
    "        elif colors=='luv':\n",
    "            cluster_color = luv2rgb(peak_colors[label])\n",
    "        else:\n",
    "            cluster_color=None\n",
    "\n",
    "        cluster = data[labels==label]\n",
    "        ax.scatter(cluster[:, 0], cluster[:, 1], cluster[:, 2],\n",
    "                   alpha=0.15, color=cluster_color)\n",
    "        ax.scatter(peaks[label, 0], peaks[label, 1], peaks[label, 2], \n",
    "                   color='black', marker='x', s=150, linewidth=3)\n",
    "\n",
    "    ax.set_xlabel(axis_names[0])\n",
    "    ax.set_ylabel(axis_names[1])\n",
    "    ax.set_zlabel(axis_names[2])\n",
    "\n",
    "data = np.genfromtxt(f'gaussian_mixture_samples_3d.csv', delimiter=',')\n",
    "radii = [ 1, 1.25, 2, 8]\n",
    "fig, axes = plt.subplots(\n",
    "    1, len(radii), figsize=(9.5,4), subplot_kw={'projection': '3d'})\n",
    "\n",
    "for radius, ax in zip(radii, axes): \n",
    "    start_time = time.time()\n",
    "    peaks, labels = mean_shift(data, radius)\n",
    "    plot_3d_clusters(ax, data, labels, peaks)\n",
    "    duration = time.time()-start_time\n",
    "    ax.set_title(f'{len(peaks)} peaks using r={radius:.2f}\\n'\n",
    "                 f'Needed {duration:.4f}s\\n')\n",
    "    \n",
    "fig.tight_layout()"
   ]
  },
  {
   "cell_type": "markdown",
   "metadata": {
    "deletable": false,
    "editable": false,
    "nbgrader": {
     "cell_type": "markdown",
     "checksum": "ac81d5041f8fb5f2e922f6a4a14c9142",
     "grade": false,
     "grade_id": "cell-4316ac09660beb91",
     "locked": true,
     "schema_version": 3,
     "solution": false,
     "task": false
    }
   },
   "source": [
    "## Speedups\n",
    "\n",
    "As described so far, the mean-shift algorithm is too slow to be used for image segmentation where each data point corresponds to a pixel, there are just too many pixels in normal sized images. Therefore, you should incorporate the following two speedups from the lecture into your implementation. \n",
    "\n",
    "**First speedup**: upon finding a new peak, associate each data point within `radius` distance from that peak with the cluster defined by that peak. This speedup is known as the *“basin of attraction”* and is based on the intuition that points within one window size distance from the peak will, with high probability, converge to that peak.\n",
    "\n",
    "Call the new function `mean_shift_opt`.\n",
    "\n",
    "\n",
    "**Hint:** You can use boolean indexing to assign a value only to certain array elements.\n",
    "```python\n",
    ">>> a = np.array([1, 3, 2, 4])\n",
    ">>> b = a > 2\n",
    ">>> b\n",
    "np.array([False, True, False, True])\n",
    ">>> a[b] = 0\n",
    ">>> a\n",
    "array([1, 0, 2, 0])\n",
    "```"
   ]
  },
  {
   "cell_type": "code",
   "execution_count": null,
   "metadata": {
    "deletable": false,
    "nbgrader": {
     "cell_type": "code",
     "checksum": "4ae152726d5f0bfaead2d2604e3596e9",
     "grade": true,
     "grade_id": "cell-f0792525823c53d4",
     "locked": false,
     "points": 2,
     "schema_version": 3,
     "solution": true
    }
   },
   "outputs": [],
   "source": [
    "# POINTS: 2\n",
    "\n",
    "def mean_shift_opt(data, radius):\n",
    "    labels = np.full(len(data), fill_value=-1, dtype=int)\n",
    "    \n",
    "    # YOUR CODE HERE\n",
    "    raise NotImplementedError()\n",
    "    \n",
    "    return peaks, labels"
   ]
  },
  {
   "cell_type": "markdown",
   "metadata": {
    "collapsed": true,
    "deletable": false,
    "editable": false,
    "nbgrader": {
     "cell_type": "markdown",
     "checksum": "302428e2ecb3ece3f0bb2f847e95d683",
     "grade": false,
     "grade_id": "cell-6f0f1198db2abe3c",
     "locked": true,
     "schema_version": 3,
     "solution": false,
     "task": false
    }
   },
   "source": [
    "Now run the code to check the result."
   ]
  },
  {
   "cell_type": "code",
   "execution_count": null,
   "metadata": {
    "deletable": false,
    "editable": false,
    "nbgrader": {
     "cell_type": "code",
     "checksum": "98b355f74173898d7481ca96b6472f56",
     "grade": false,
     "grade_id": "cell-3f84dad89cc61285",
     "locked": true,
     "schema_version": 3,
     "solution": false,
     "task": false
    }
   },
   "outputs": [],
   "source": [
    "data = np.genfromtxt(f'gaussian_mixture_samples_3d.csv', delimiter=',')\n",
    "radii = [1, 1.25, 2, 8]\n",
    "fig, axes = plt.subplots(\n",
    "    1, len(radii), figsize=(9.5,4), subplot_kw={'projection': '3d'})\n",
    "\n",
    "for radius, ax in zip(radii, axes): \n",
    "    start_time = time.time()\n",
    "    peaks, labels = mean_shift_opt(data, radius)\n",
    "    plot_3d_clusters(ax, data, labels, peaks)\n",
    "    duration = time.time()-start_time\n",
    "    ax.set_title(f'{len(peaks)} peaks using r={radius:.2f}\\n'\n",
    "                 f'Needed {duration:.4f}s\\n')\n",
    "    \n",
    "fig.tight_layout()"
   ]
  },
  {
   "cell_type": "markdown",
   "metadata": {
    "deletable": false,
    "editable": false,
    "nbgrader": {
     "cell_type": "markdown",
     "checksum": "3b7480def2711bd7be647e66b7b4ec44",
     "grade": false,
     "grade_id": "cell-bfc4d978cb1ac42b",
     "locked": true,
     "schema_version": 3,
     "solution": false,
     "task": false
    }
   },
   "source": [
    "The **second speedup** is based on a similar principle: Associate points within a distance $\\mathtt{radius}/c$ of the search path with the converged peak ($c$ is some constant value). Use $c = 3$ for this assignment.\n",
    "\n",
    "To realize this speedup, you will need to modify `find_peak` into `find_peak_opt`, which returns two values: `peak` and `is_near_search_path`. The latter should be a Boolean output vector of length $p$ (number of data points) containing `True` for each point that we encountered within a distance $\\mathtt{radius}/c$ on our search path, and `False` for the others. Then use this Boolean vector in a new version of `mean_shift_opt`, called `mean_shift_opt2` to do the label assignments accordingly."
   ]
  },
  {
   "cell_type": "code",
   "execution_count": null,
   "metadata": {
    "deletable": false,
    "nbgrader": {
     "cell_type": "code",
     "checksum": "be9739fbf2cc6cac169f7f247f53d3cf",
     "grade": true,
     "grade_id": "cell-375afff9bffe7491",
     "locked": false,
     "points": 2,
     "schema_version": 3,
     "solution": true
    }
   },
   "outputs": [],
   "source": [
    "# POINTS: 2\n",
    "\n",
    "def find_peak_opt(data, query, radius, c=3):\n",
    "    is_near_search_path = np.zeros(len(data), dtype=bool)\n",
    "    \n",
    "    # YOUR CODE HERE\n",
    "    raise NotImplementedError()\n",
    "\n",
    "def mean_shift_opt2(data, radius):\n",
    "    labels = np.full(len(data), fill_value=-1, dtype=int)\n",
    "    \n",
    "    # YOUR CODE HERE\n",
    "    raise NotImplementedError()\n",
    "    \n",
    "    return peaks, labels\n",
    "\n",
    "data = np.genfromtxt(f'gaussian_mixture_samples_3d.csv', delimiter=',')\n",
    "radii = [1, 1.25, 2, 8]\n",
    "fig, axes = plt.subplots(\n",
    "    1, len(radii), figsize=(9.5,4), subplot_kw={'projection': '3d'})\n",
    "\n",
    "for radius, ax in zip(radii, axes):\n",
    "    start_time = time.time()\n",
    "    peaks, labels = mean_shift_opt2(data, radius)\n",
    "    plot_3d_clusters(ax, data, labels, peaks)\n",
    "    duration = time.time()-start_time\n",
    "    ax.set_title(f'{len(peaks)} peaks using r={radius:.2f}\\n'\n",
    "                 f'Needed {duration:.4f}s\\n')\n",
    "    \n",
    "fig.tight_layout()"
   ]
  },
  {
   "cell_type": "markdown",
   "metadata": {
    "deletable": false,
    "editable": false,
    "nbgrader": {
     "cell_type": "markdown",
     "checksum": "d9115f154476da593b2ff2719fbf0cc1",
     "grade": false,
     "grade_id": "cell-11ab22ff738a62cf",
     "locked": true,
     "schema_version": 3,
     "solution": false,
     "task": false
    }
   },
   "source": [
    "Which radius gives good results? Can the speedups change the result? Why is the speedup so different for the different radii?"
   ]
  },
  {
   "cell_type": "markdown",
   "metadata": {
    "deletable": false,
    "nbgrader": {
     "cell_type": "markdown",
     "checksum": "4ea9c576478eca0657c989932498cd82",
     "grade": true,
     "grade_id": "cell-1cff4f2c453b1850",
     "locked": false,
     "points": 0,
     "schema_version": 3,
     "solution": true
    }
   },
   "source": [
    "*POINTS: 0*\n",
    "\n",
    "YOUR ANSWER HERE"
   ]
  },
  {
   "cell_type": "markdown",
   "metadata": {
    "deletable": false,
    "editable": false,
    "nbgrader": {
     "cell_type": "markdown",
     "checksum": "87d679940cc0545a754e6db6d8b8cc0e",
     "grade": false,
     "grade_id": "cell-f976f3d0dbc65434",
     "locked": true,
     "schema_version": 3,
     "solution": false,
     "task": false
    }
   },
   "source": [
    "## Image Segmentation by Mean-Shift\n",
    "\n",
    "Now use your mean-shift implementation from above to segment images. Note that although very efficient mean-shift implementations exist, our version here may take several minutes per image. Debug using small images.\n",
    "\n",
    "Implement the function `mean_shift_segment(im, radius)` where `im` is an input RGB image of shape $\\mathtt{height}\\times\\mathtt{width}\\times 3$ and `radius` is the parameter associated with the mean-shift algorithm. The output should be `data`, `peaks`, `labels`, `segmented_image`:\n",
    "\n",
    "* `data` is the array of the data points that you input to the mean-shift algorithm, with $p$ rows and 3 columns (where $p=\\mathtt{height}\\cdot\\mathtt{width}$).\n",
    "* `peaks` and `labels` are simply the results returned by the `mean_shift` call (without changing them).\n",
    "* The `segmented_image` is constructed by assigning to each pixel the color value of the corresponding cluster's peak.\n",
    "\n",
    "You will need to reshape (`np.reshape`) the image array before feeding it to your mean-shift clustering function. Also, do not forget to convert the pixel values to floating point, using `somearray.astype(float)` and then convert the result back to 8-bit unsigned integers using `somearray.astype(np.uint8)`.\n",
    "\n",
    "**Hints:** You can change the shape of an array `a` with `a.reshape()`."
   ]
  },
  {
   "cell_type": "code",
   "execution_count": null,
   "metadata": {
    "deletable": false,
    "nbgrader": {
     "cell_type": "code",
     "checksum": "c36a49330aca01349186e6b0b752ea62",
     "grade": true,
     "grade_id": "cell-c18d7756305d4bcf",
     "locked": false,
     "points": 2,
     "schema_version": 3,
     "solution": true
    }
   },
   "outputs": [],
   "source": [
    "# POINTS: 2\n",
    "\n",
    "def mean_shift_segment(im, radius):\n",
    "    # YOUR CODE HERE\n",
    "    raise NotImplementedError()\n",
    "    return data, peaks, labels, segmented_im"
   ]
  },
  {
   "cell_type": "markdown",
   "metadata": {
    "deletable": false,
    "editable": false,
    "nbgrader": {
     "cell_type": "markdown",
     "checksum": "03acd1253945a121188e2415875e23cd",
     "grade": false,
     "grade_id": "cell-07e69af6bccf38b8",
     "locked": true,
     "schema_version": 3,
     "solution": false,
     "task": false
    }
   },
   "source": [
    "The next cell segments the image `terrain_small.png`. It should take less than 5 seconds."
   ]
  },
  {
   "cell_type": "code",
   "execution_count": null,
   "metadata": {
    "deletable": false,
    "editable": false,
    "nbgrader": {
     "cell_type": "code",
     "checksum": "7cdf5a7929c6d32c662104b5a0533e9e",
     "grade": false,
     "grade_id": "cell-bf935cc3dcdc173f",
     "locked": true,
     "schema_version": 3,
     "solution": false,
     "task": false
    }
   },
   "outputs": [],
   "source": [
    "def make_label_colormap():\n",
    "    \"\"\"Create a color map for visualizing the labels themselves,\n",
    "    such that the segment boundaries become more visible, unlike\n",
    "    in the visualization using the cluster peak colors.\n",
    "    \"\"\"\n",
    "    import matplotlib.colors\n",
    "    rng = np.random.RandomState(2)\n",
    "    values = np.linspace(0, 1, 20)\n",
    "    colors = plt.cm.get_cmap('hsv')(values)\n",
    "    rng.shuffle(colors)\n",
    "    return matplotlib.colors.ListedColormap(colors)\n",
    "\n",
    "label_cmap = make_label_colormap()\n",
    "\n",
    "im = imageio.imread('terrain_small.png')\n",
    "start_time = time.time()\n",
    "data, peaks, labels, segmented_im = mean_shift_segment(im, radius=15)\n",
    "duration= time.time()-start_time\n",
    "print(f'Took {duration:.2f} s')\n",
    "\n",
    "fig = plt.figure(figsize=(9.5,9.5))\n",
    "ax = fig.add_subplot(2, 2, 1)\n",
    "ax.set_title('Original Image')\n",
    "ax.imshow(im)\n",
    "\n",
    "ax = fig.add_subplot(2, 2, 2)\n",
    "ax.set_title('Segmented')\n",
    "ax.imshow(segmented_im)\n",
    "\n",
    "ax = fig.add_subplot(2, 2, 3)\n",
    "ax.set_title('Labels')\n",
    "ax.imshow(labels.reshape(im.shape[:2]), cmap=label_cmap)\n",
    "\n",
    "ax = fig.add_subplot(2, 2, 4, projection='3d')\n",
    "ax.set_title(f'RGB space')\n",
    "plot_3d_clusters(ax, data, labels, peaks, colors='rgb', axis_names='RGB')\n",
    "fig.tight_layout()"
   ]
  },
  {
   "cell_type": "markdown",
   "metadata": {
    "deletable": false,
    "editable": false,
    "nbgrader": {
     "cell_type": "markdown",
     "checksum": "bdc682c9c05baa8c64c801582900afc9",
     "grade": false,
     "grade_id": "cell-c6d1053f704814e7",
     "locked": true,
     "schema_version": 3,
     "solution": false,
     "task": false
    }
   },
   "source": [
    "## Segmentation in LUV color space\n",
    "Note that mean-shift uses the Euclidean distance metric. Unfortunately, the Euclidean distance in RGB color space does not correlate well to color difference as perceived by people. For example in the green portion of RGB space, large distances are perceived as the roughly same color, whereas in the blue part a small RGB-distance may cause a large change in perceived color. For this reason we will now use the non-linear LUV color space, where the Euclidean distance better models the perceived difference in color.\n",
    "\n",
    "In the function `mean_shift_segment_luv(...)` cluster the image data in LUV color space by first converting the RGB color vectors to LUV using OpenCV: `cv2.cvtColor(rgb_image, cv2.COLOR_RGB2LUV)`. Then convert the resulting cluster centers back to RGB using `cv2.cvtColor(luv_image, cv2.COLOR_LUV2RGB)`.\n",
    "\n",
    "If we want to include spatial *position information* in the feature vectors as well, we can make the feature vectors 5 dimensional by specifying in addition to the the L, U, and V values also the x, and y coordinates of each pixel. Write a function `mean_shift_segment_luv_pos(im, radius)` that does this. The parameter `pos_weight` should be multiplied to the position coordinates.\n",
    "\n",
    "**Hint:** useful functions are `np.arange`, `np.meshgrid`, `np.concatenate`, `np.expand_dims`."
   ]
  },
  {
   "cell_type": "code",
   "execution_count": null,
   "metadata": {
    "deletable": false,
    "nbgrader": {
     "cell_type": "code",
     "checksum": "8c6db1a177d0de234c7a9818b332f740",
     "grade": true,
     "grade_id": "cell-d0ae0d08f2d3c2c0",
     "locked": false,
     "points": 2,
     "schema_version": 3,
     "solution": true
    }
   },
   "outputs": [],
   "source": [
    "# POINTS: 2\n",
    "\n",
    "def mean_shift_segment_luv(im, radius):\n",
    "    # YOUR CODE HERE\n",
    "    raise NotImplementedError()\n",
    "    return data, peaks, labels, segmented_im\n",
    "    \n",
    "def mean_shift_segment_luv_pos(im, radius, pos_weight=1):\n",
    "    # YOUR CODE HERE\n",
    "    raise NotImplementedError()\n",
    "    return data, peaks, labels, segmented_im"
   ]
  },
  {
   "cell_type": "code",
   "execution_count": null,
   "metadata": {
    "deletable": false,
    "editable": false,
    "nbgrader": {
     "cell_type": "code",
     "checksum": "4c3bc81c6ce3d409e1dd396551ef0715",
     "grade": false,
     "grade_id": "cell-c36f293ca4381d89",
     "locked": true,
     "schema_version": 3,
     "solution": false,
     "task": false
    }
   },
   "outputs": [],
   "source": [
    "im = imageio.imread('terrain_small.png')\n",
    "data, peaks, labels, segmented_im = mean_shift_segment_luv(im, radius=10)\n",
    "fig = plt.figure(figsize=(9.5,11))\n",
    "\n",
    "ax = fig.add_subplot(4, 3, 1)\n",
    "ax.set_title('Segmented LUV')\n",
    "ax.imshow(segmented_im)\n",
    "\n",
    "ax = fig.add_subplot(4, 3, 2)\n",
    "ax.set_title('Labels LUV')\n",
    "ax.imshow(labels.reshape(im.shape[:2]), cmap=label_cmap)\n",
    "\n",
    "ax = fig.add_subplot(4, 3, 3, projection='3d')\n",
    "ax.set_title(f'LUV space')\n",
    "plot_3d_clusters(ax, data, labels, peaks, colors='luv', axis_names='LUV')\n",
    "\n",
    "for i, pos_weight in enumerate([0.5, 1, 2]):\n",
    "    data, peaks, labels, segmented_im = mean_shift_segment_luv_pos(im, radius=15, pos_weight=pos_weight)\n",
    "    ax = fig.add_subplot(4, 3, 4 + 3*i)\n",
    "    ax.set_title(f'Segmented LUV + pos (weight {pos_weight})')\n",
    "    ax.imshow(segmented_im)\n",
    "\n",
    "    ax = fig.add_subplot(4, 3, 5 + 3*i)\n",
    "    ax.set_title(f'Labels LUV + pos (weight {pos_weight})')\n",
    "    ax.imshow(labels.reshape(im.shape[:2]), cmap=label_cmap)\n",
    "\n",
    "    ax = fig.add_subplot(4, 3, 6 + 3*i, projection='3d')\n",
    "    ax.set_title(f'VXY space')\n",
    "    plot_3d_clusters(\n",
    "        ax, data[:, 2:], labels, peaks[:, 2:], \n",
    "        peak_colors=peaks[:, :3], colors='luv', axis_names='VXY')\n",
    "    ax.invert_zaxis()\n",
    "    ax.view_init(azim=20, elev=15)\n",
    "\n",
    "    fig.tight_layout()"
   ]
  },
  {
   "cell_type": "markdown",
   "metadata": {
    "deletable": false,
    "editable": false,
    "nbgrader": {
     "cell_type": "markdown",
     "checksum": "f02a30c50f52d0f1abf7b259024229ea",
     "grade": false,
     "grade_id": "cell-b3daaa8101c1cfb4",
     "locked": true,
     "schema_version": 3,
     "solution": false,
     "task": false
    }
   },
   "source": [
    "What effect does adding position information have? Why does it make sense to use a bigger radius for more dimensions ($15$ instead of $10$ in the example above)? What is the effect of weighting the positions?"
   ]
  },
  {
   "cell_type": "markdown",
   "metadata": {
    "deletable": false,
    "nbgrader": {
     "cell_type": "markdown",
     "checksum": "4555b6e1308947fdf37bba90cdcbc678",
     "grade": true,
     "grade_id": "cell-d30c3dc4e2d5e978",
     "locked": false,
     "points": 0,
     "schema_version": 3,
     "solution": true,
     "task": false
    }
   },
   "source": [
    "*POINTS: 0*\n",
    "\n",
    "YOUR ANSWER HERE"
   ]
  },
  {
   "cell_type": "markdown",
   "metadata": {
    "deletable": false,
    "editable": false,
    "nbgrader": {
     "cell_type": "markdown",
     "checksum": "1cd5f916db7f166cc94cd31ac18351e8",
     "grade": false,
     "grade_id": "cell-e1dd44bea559c872",
     "locked": true,
     "schema_version": 3,
     "solution": false,
     "task": false
    }
   },
   "source": [
    "## Experiment with the parameters\n",
    "\n",
    "Run the next cell. How does the `radius` and the choice of the feature vector affect the resulting segmentations?"
   ]
  },
  {
   "cell_type": "markdown",
   "metadata": {
    "deletable": false,
    "nbgrader": {
     "cell_type": "markdown",
     "checksum": "e5b26e2b2eda458c6628262f888faf7e",
     "grade": true,
     "grade_id": "cell-427095855283067d",
     "locked": false,
     "points": 0,
     "schema_version": 3,
     "solution": true
    }
   },
   "source": [
    "*POINTS: 0*\n",
    "\n",
    "YOUR ANSWER HERE"
   ]
  },
  {
   "cell_type": "code",
   "execution_count": null,
   "metadata": {
    "deletable": false,
    "editable": false,
    "nbgrader": {
     "cell_type": "code",
     "checksum": "babbade3b4dbd9f893e9070489ecd9a9",
     "grade": false,
     "grade_id": "cell-fad133b860cbab2e",
     "locked": true,
     "schema_version": 3,
     "solution": false,
     "task": false
    }
   },
   "outputs": [],
   "source": [
    "im = imageio.imread('terrain_small.png')\n",
    "radii = [5, 10, 20]\n",
    "fig, axes = plt.subplots(len(radii), 3, figsize=(9.5,7.5))\n",
    "for radius, ax in zip(radii, axes):\n",
    "    segmented_im = mean_shift_segment(im, radius)[-1]\n",
    "    ax[0].imshow(segmented_im)\n",
    "    ax[0].set_title(f'Radius {radius} RGB')\n",
    "    \n",
    "    segmented_im = mean_shift_segment_luv(im, radius)[-1]\n",
    "    ax[1].imshow(segmented_im)\n",
    "    ax[1].set_title(f'Radius {radius} LUV')\n",
    "\n",
    "    segmented_im = mean_shift_segment_luv_pos(im, radius)[-1]\n",
    "    ax[2].imshow(segmented_im)\n",
    "    ax[2].set_title(f'Radius {radius} LUV+pos')\n",
    "fig.tight_layout()"
   ]
  },
  {
   "cell_type": "markdown",
   "metadata": {
    "deletable": false,
    "editable": false,
    "nbgrader": {
     "cell_type": "markdown",
     "checksum": "599a1a0af41a3e8c635e91897280fb3c",
     "grade": false,
     "grade_id": "cell-e2340385d55e782b",
     "locked": true,
     "schema_version": 3,
     "solution": false,
     "task": false
    }
   },
   "source": [
    "## [OPTIONAL] Test it on a larger image\n",
    "\n",
    "Run your algorithm on at least one larger (approx. 250x250) test image using your own choice of `radius` and feature vector definition. One source for possible test images is the dataset of images available at http://www.eecs.berkeley.edu/Research/Projects/CS/vision/grouping/segbench/. You can also try the example images included in the scikit-image library, e.g. `import skimage.data; im = skimage.data.astronaut()`. Or any image from anywhere.\n",
    "\n",
    "Processing can take several minutes for larger images."
   ]
  },
  {
   "cell_type": "code",
   "execution_count": null,
   "metadata": {
    "deletable": false,
    "nbgrader": {
     "cell_type": "code",
     "checksum": "d0be4c6e1cf0829bc809da26828e95f9",
     "grade": true,
     "grade_id": "cell-22b5011e13b8557a",
     "locked": false,
     "points": 0,
     "schema_version": 3,
     "solution": true
    }
   },
   "outputs": [],
   "source": [
    "# POINTS: 0\n",
    "\n",
    "import skimage.data\n",
    "im = skimage.data.astronaut()\n",
    "im = cv2.resize(im, (250,250))\n",
    "\n",
    "# YOUR CODE HERE\n",
    "raise NotImplementedError()\n",
    "\n",
    "fig, axes = plt.subplots(1, 3, figsize=(9.5, 4))\n",
    "axes[0].set_title('Original image')\n",
    "axes[0].imshow(im)\n",
    "axes[1].set_title('Segmented image')\n",
    "axes[1].imshow(segmented_im)\n",
    "axes[2].set_title('Labels')\n",
    "axes[2].imshow(labels.reshape(im.shape[:2]), cmap=label_cmap)\n",
    "fig.tight_layout()"
   ]
  }
 ],
 "metadata": {
  "interpreter": {
   "hash": "c935de02f915155a0a3a08006a727eae88c52118d98ac63233172b349875bfb7"
  },
  "kernelspec": {
   "display_name": "Python 3 (ipykernel)",
   "language": "python",
   "name": "python3"
  },
  "language_info": {
   "codemirror_mode": {
    "name": "ipython",
    "version": 3
   },
   "file_extension": ".py",
   "mimetype": "text/x-python",
   "name": "python",
   "nbconvert_exporter": "python",
   "pygments_lexer": "ipython3",
   "version": "3.9.7"
  }
 },
 "nbformat": 4,
 "nbformat_minor": 2
}

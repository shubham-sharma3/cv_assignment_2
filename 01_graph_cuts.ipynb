{
 "cells": [
  {
   "cell_type": "markdown",
   "metadata": {
    "deletable": false,
    "editable": false,
    "nbgrader": {
     "cell_type": "markdown",
     "checksum": "7de44d7fce61d578a0c26f7697639f37",
     "grade": false,
     "grade_id": "cell-2c974fbadcd55657",
     "locked": true,
     "schema_version": 3,
     "solution": false,
     "task": false
    }
   },
   "source": [
    "This exercise consists of three parts in three notebooks:\n",
    "1. Graph Cut Segmentation\n",
    "2. Mean Shift Segmentation\n",
    "3. Sliding Window Detection\n",
    "\n",
    "**Important**:\n",
    "Follow the instructions below when submitting your attempt.\n",
    "Submissions not following these instructions will not be graded.\n",
    "\n",
    "1. Submit in **teams of 3 or 4 students**, add their names and matriculation numbers below. Only **one team member should upload** the solutions.\n",
    "2. **Use jupyter notebook**. Other notebook-editing software (e.g. jupyter-lab, pycharm) might corrupt the notebook files and could have issues with displaying matplotlib interactively.\n",
    "3. **Do not remove, modify or duplicate** any given cells, except those in which you need to fill in your implementation. You can add new cells in order to present additional texts or plots.\n",
    "4. **Restart the kernel and re-run the whole notebook** once before submission. After this step, the cell id should be incremental from top to bottom, and all plots should be displayed.\n",
    "5. **Submit only the `.ipynb` files**, do not upload archives (zip, rar, tar, etc.), images or datasets.\n",
    "6. **Do not change the filenames** of the `.ipynb` files."
   ]
  },
  {
   "cell_type": "markdown",
   "metadata": {},
   "source": [
    "Team members (names and matriculation numbers):\n",
    "* \n",
    "* \n",
    "* \n",
    "* "
   ]
  },
  {
   "cell_type": "markdown",
   "metadata": {
    "deletable": false,
    "editable": false,
    "nbgrader": {
     "cell_type": "markdown",
     "checksum": "3f32cf7109e356efc80d124fa56adcf6",
     "grade": false,
     "grade_id": "cell-d224cb07166650f3",
     "locked": true,
     "schema_version": 3,
     "solution": false,
     "task": false
    }
   },
   "source": [
    "# Graph Cut Segmentation\n",
    "\n",
    "In this part you will implement foreground-background segmentation using *Markov random fields* (MRF) and graph cuts.\n",
    "\n",
    "### Recap from the lecture\n",
    "A Markov random field is a graphical model that expresses the structure of (input and output) variables. In our image segmentation case this structure means that we do not simply model the foreground and background pixel colors but also take into account the neighborhood relations of the pixels. This encodes the intuition that neighboring pixels are more likely to belong to the same region than just two random pixels of the image.\n",
    "\n",
    "The color (or more generally, appearance) models and the neighborhood relations are combined in a so-called *energy function* (or cost function), which is then minimized to obtain an optimal label-assignment.\n",
    "\n",
    "Given a structured input (here: image pixel colors) $\\mathcal{Y} = \\{Y_j|j \\in I\\}$ we want to find the output (here: labeling) $\\mathcal{X} = \\{X_j | j \\in I\\}$ such that\n",
    "\n",
    "$$\n",
    "\\hat{\\mathcal{X}} = \\arg \\min_{\\mathcal{X}} E(\\mathcal{X}, \\mathcal{Y})\n",
    "$$\n",
    "\n",
    "$$\n",
    "E(\\mathcal{X}, \\mathcal{Y}) = \\sum_{j\\in I}{\\psi_u (X_j,Y_j)} + \\sum_{i, j\\in I}{\\psi_p (X_j,X_j,Y_i,Y_j)}.\n",
    "$$\n",
    "\n",
    "The set $I$ contains all possible pixel indices. In our two-label (binary) segmentation case, the label variables must be either 0 (background) or 1 (foreground) $X_j \\in \\{0, 1\\}$.\n",
    "\n",
    "The so-called *unary potential* $\\psi_u (X_j,Y_j)$ is the cost of assigning the label $X_j$ to a pixel with color $Y_j$. In probabilistic terms, the unary potential is\n",
    "\n",
    "$$\n",
    "\\psi_u (X_j,Y_j)=-\\omega_u \\cdot \\log p(X_j|Y_j),\n",
    "$$\n",
    "\n",
    "with an appropriate model $p$ for the foreground and the background and a weighting factor $\\omega_u$. The unaries encourage labeling each pixel with the label (foreground/background) whose color model is a better fit for that particular pixel.\n",
    "\n",
    "The *pairwise potential* $\\psi_p$ incorporates the dependencies between pixels. To speed up the computation, the pairwise model is usually restricted to neighboring pixels and is therefore set to zero if the $i$th and $j$th pixels are not direct neighbors in a 4-neighborhood. In our case it written as:\n",
    "\n",
    "$$\n",
    "\\psi_p (X_i,X_j,Y_i,Y_j)=\\omega_p\\cdot\n",
    "\\begin{cases}\n",
    "1,&\\text{if }   X_i\\neq X_j \\text{ and } i,j \\text{ are neighbors}  \\\\\n",
    "0,&\\text{otherwise}\n",
    "\\end{cases}\n",
    "$$\n",
    "\n",
    "with some weighting factor $\\omega_p$. Such a pairwise potential encourages neighboring pixels to have the same label because it gives some nonzero cost to each pair of neighboring pixels that are assigned different labels.\n",
    "\n",
    "After this, a Graph Cut method is used to find the optimal solution $\\hat{\\mathcal X}$ of the energy function.\n",
    "\n",
    "### Bird's eye overview\n",
    "\n",
    "It's easy to get lost in all the details, so here's an roadmap of what we're going to do:\n",
    "\n",
    "1. Set up the Markov Random Field (define unaries and pairwise potentials), in more detail:\n",
    "    1. Manually define some approximate initial background and foreground regions in the image\n",
    "    2. Model the distribution of background and foreground colors based on the colors found in the approximate initial regions\n",
    "    3. For each pixel independently, calculate the posterior probability of being foreground, based on the models from the previous step (create a \"probability map\")\n",
    "    4. Calculate the unary potentials based on the foreground probability map\n",
    "    5. Define the pairwise potentials (using the neighborhood relations)\n",
    "2. Use the graph cut algorithm to minimize the energy function of the Markov Random Field and obtain a labeling\n",
    "\n",
    "You will not have to implement the graph cut algorithm yourself, we will use the `pygco` (\"Python Graph Cut Optimizer\") package for that. You can install it using `conda install pygco -c kayarre`. (This is a Python wrapper over the C++ gco library. The C++ library can be found at https://vision.cs.uwaterloo.ca/code/)."
   ]
  },
  {
   "cell_type": "code",
   "execution_count": 1,
   "metadata": {
    "deletable": false,
    "editable": false,
    "nbgrader": {
     "cell_type": "code",
     "checksum": "17c1450786cce77846766ce98c9a1a93",
     "grade": false,
     "grade_id": "cell-253782a32ab80105",
     "locked": true,
     "schema_version": 3,
     "solution": false,
     "task": false
    }
   },
   "outputs": [
    {
     "data": {
      "text/html": [
       "<!-- Run this cell to add heading letters per subtask (like a, b, c) -->\n",
       "<style>\n",
       "body {counter-reset: section;}\n",
       "h2:before {counter-increment: section;\n",
       "           content: counter(section, lower-alpha) \") \";}\n",
       "</style>\n"
      ],
      "text/plain": [
       "<IPython.core.display.HTML object>"
      ]
     },
     "metadata": {},
     "output_type": "display_data"
    }
   ],
   "source": [
    "%%html\n",
    "<!-- Run this cell to add heading letters per subtask (like a, b, c) -->\n",
    "<style>\n",
    "body {counter-reset: section;}\n",
    "h2:before {counter-increment: section;\n",
    "           content: counter(section, lower-alpha) \") \";}\n",
    "</style>"
   ]
  },
  {
   "cell_type": "code",
   "execution_count": 2,
   "metadata": {},
   "outputs": [],
   "source": [
    "USE_NETWORKX = False  # If you can't get pygco installed, set this to True to use networkx instead.\n",
    "                      # networkx can also perform the graph cut algorithm, but it is much (!) slower\n",
    "                      # so try installing pygco first"
   ]
  },
  {
   "cell_type": "code",
   "execution_count": 3,
   "metadata": {
    "deletable": false,
    "editable": false,
    "nbgrader": {
     "cell_type": "code",
     "checksum": "e96a0f6a49c03ea3fbdc3bfdcd2c995d",
     "grade": false,
     "grade_id": "cell-4615d4fb66ece32b",
     "locked": true,
     "schema_version": 3,
     "solution": false,
     "task": false
    }
   },
   "outputs": [],
   "source": [
    "# Some imports and helper functions\n",
    "%matplotlib notebook\n",
    "import numpy as np\n",
    "import matplotlib.pyplot as plt\n",
    "import imageio\n",
    "import time\n",
    "import cv2\n",
    "if USE_NETWORKX:\n",
    "    import networkx as nx\n",
    "    from networkx.algorithms.flow import preflow_push\n",
    "else:\n",
    "    import pygco\n",
    "\n",
    "def draw_mask_on_image(image, mask, color=(0, 255, 255)):\n",
    "    \"\"\"Return a visualization of a mask overlaid on an image.\"\"\"\n",
    "    result = image.copy()\n",
    "    kernel = cv2.getStructuringElement(cv2.MORPH_RECT, (3, 3))\n",
    "    dilated = cv2.morphologyEx(mask.astype(np.uint8), cv2.MORPH_DILATE, kernel)\n",
    "    outline = dilated > mask\n",
    "    result[mask == 1] = (result[mask == 1] * 0.4 + \n",
    "                         np.array(color) * 0.6).astype(np.uint8)\n",
    "    result[outline] = color\n",
    "    return result"
   ]
  },
  {
   "cell_type": "markdown",
   "metadata": {
    "deletable": false,
    "editable": false,
    "nbgrader": {
     "cell_type": "markdown",
     "checksum": "f155364ecd4ef9e1abe31346f4657371",
     "grade": false,
     "grade_id": "cell-f840b2115024f6b3",
     "locked": true,
     "schema_version": 3,
     "solution": false,
     "task": false
    }
   },
   "source": [
    "## Mask Initialization\n",
    "\n",
    "First, manually create initial boxes of foreground and background regions.\n",
    "\n",
    "We will use these to build color models. That is, to model the probability of a pixel color occuring, given either that it is a foreground or a background pixel."
   ]
  },
  {
   "cell_type": "code",
   "execution_count": 12,
   "metadata": {
    "deletable": false,
    "nbgrader": {
     "cell_type": "code",
     "checksum": "173cb6066b6640c1b44d102448f851fd",
     "grade": true,
     "grade_id": "cell-2e77789346031467",
     "locked": false,
     "points": 1,
     "schema_version": 3,
     "solution": true
    }
   },
   "outputs": [
    {
     "name": "stderr",
     "output_type": "stream",
     "text": [
      "/tmp/ipykernel_60927/1545107465.py:37: UserWarning: Matplotlib is currently using module://matplotlib_inline.backend_inline, which is a non-GUI backend, so cannot show the figure.\n",
      "  fig.show()\n"
     ]
    },
    {
     "data": {
      "image/png": "[encoded data removed]",
      "text/plain": [
       "<Figure size 684x360 with 2 Axes>"
      ]
     },
     "metadata": {
      "needs_background": "light"
     },
     "output_type": "display_data"
    }
   ],
   "source": [
    "# POINTS: 1\n",
    "\n",
    "\n",
    "\n",
    "im = imageio.imread('lotus320.jpg')\n",
    "\n",
    "h,w = im.shape[:2]\n",
    "\n",
    "\n",
    "# Set up initial foreground and background\n",
    "# regions for building the color model\n",
    "init_fg_mask = np.zeros([h, w])\n",
    "init_bg_mask = np.zeros([h, w])\n",
    "\n",
    "# Now set some rectangular region of the initial foreground mask to 1.\n",
    "# This should be a part of the image that is fully foreground.\n",
    "# The indices in the following line are just an example,\n",
    "# and they need to be corrected so that only flower pixels are included\n",
    "# init_fg_mask[10:20, 15:30] = 1\n",
    "\n",
    "# Same for the background (replace the indices)\n",
    "# init_bg_mask[60:90, 50:110] = 1\n",
    "\n",
    "# YOUR CODE HERE\n",
    "%matplotlib inline\n",
    "init_fg_mask[100:200, 125:325] = 1\n",
    "init_bg_mask[0:75, 0:100] = 1\n",
    "\n",
    "# raise NotImplementedError()\n",
    "\n",
    "fig, axes = plt.subplots(1, 2, figsize=(9.5,5))\n",
    "axes[0].set_title('Initial foreground mask')\n",
    "axes[0].imshow(draw_mask_on_image(im, init_fg_mask))\n",
    "axes[1].set_title('Initial background mask')\n",
    "axes[1].imshow(draw_mask_on_image(im, init_bg_mask))\n",
    "fig.tight_layout()\n",
    "fig.show()"
   ]
  },
  {
   "cell_type": "markdown",
   "metadata": {
    "deletable": false,
    "editable": false,
    "nbgrader": {
     "cell_type": "markdown",
     "checksum": "1fc06ad1fb746b86ae6e89ab767a2b37",
     "grade": false,
     "grade_id": "cell-9c3d80888b51c740",
     "locked": true,
     "schema_version": 3,
     "solution": false,
     "task": false
    }
   },
   "source": [
    "## Color Modeling by Histograms\n",
    "\n",
    "A common way to model color distributions is to use *Gaussian mixture models*. However, to keep this exercise simple, we will only use color histograms (i.e. the relative frequencies of quantized colors) in the respective region of the image defined by the boxes. In other words, we model the color simply as a discretized, categorical random variable.\n",
    "\n",
    "Implement the function `calculate_histogram`. It should take as input the image `im` with values in the range $[0, 255]$ and a `mask` the same size as the image. The mask is 1 at the positions of the image where the histogram should be computed, zero elsewhere. The final parameter `n_bins` defines how many bins should be used in the histogram along each dimension. The function should **return a 3-dimensional array** of shape `[n_bins, n_bins, n_bins]`, containing the relative frequency for each `(r, g, b)` color bin within the region of the image defined by the mask, i.e. the fraction of pixels falling within each bin. The histogram should be normalized (sum to 1). All bins are initialized with a small value ($10^{−3}$) to avoid relative frequencies which are zero. (Why would zeros be a problem?)"
   ]
  },
  {
   "cell_type": "code",
   "execution_count": null,
   "metadata": {
    "deletable": false,
    "nbgrader": {
     "cell_type": "code",
     "checksum": "b176648cd0d75407b80b04d91e3b3d32",
     "grade": true,
     "grade_id": "cell-fdbb796b3660b29f",
     "locked": false,
     "points": 3,
     "schema_version": 3,
     "solution": true
    }
   },
   "outputs": [],
   "source": [
    "# POINTS: 3\n",
    "\n",
    "def calculate_histogram(im, mask, n_bins):\n",
    "    histogram = np.full((n_bins, n_bins, n_bins), fill_value=0.001)\n",
    "    \n",
    "    # YOUR CODE HERE\n",
    "    raise NotImplementedError()\n",
    "    return histogram"
   ]
  },
  {
   "cell_type": "code",
   "execution_count": null,
   "metadata": {
    "deletable": false,
    "editable": false,
    "nbgrader": {
     "cell_type": "code",
     "checksum": "d8c41376474b6466ae6a438bf1e86a70",
     "grade": false,
     "grade_id": "cell-2b3a2a3a843bd70a",
     "locked": true,
     "schema_version": 3,
     "solution": false,
     "task": false
    }
   },
   "outputs": [],
   "source": [
    "n_bins = 10\n",
    "fg_histogram = calculate_histogram(im, init_fg_mask, n_bins)\n",
    "bg_histogram = calculate_histogram(im, init_bg_mask, n_bins)\n",
    "\n",
    "fig, axes = plt.subplots(\n",
    "    3, 2, figsize=(5,5), sharex=True, \n",
    "    sharey=True, num='Relative frequency of color bins')\n",
    "\n",
    "x = np.arange(n_bins)\n",
    "axes[0,0].bar(x, np.sum(fg_histogram, (1, 2)))\n",
    "axes[0,0].set_title('red (foreground)')\n",
    "axes[1,0].bar(x, np.sum(fg_histogram, (0, 2)))\n",
    "axes[1,0].set_title('green (foreground)')\n",
    "axes[2,0].bar(x, np.sum(fg_histogram, (0, 1)))\n",
    "axes[2,0].set_title('blue (foreground)')\n",
    "\n",
    "axes[0,1].bar(x, np.sum(bg_histogram, (1, 2)))\n",
    "axes[0,1].set_title('red (background)')\n",
    "axes[1,1].bar(x, np.sum(bg_histogram, (0, 2)))\n",
    "axes[1,1].set_title('green (background)')\n",
    "axes[2,1].bar(x, np.sum(bg_histogram, (0, 1)))\n",
    "axes[2,1].set_title('blue (background)')\n",
    "fig.tight_layout()\n",
    "fig.show()"
   ]
  },
  {
   "cell_type": "markdown",
   "metadata": {
    "deletable": false,
    "editable": false,
    "nbgrader": {
     "cell_type": "markdown",
     "checksum": "52302f1336ad1c637430bb887d10aeb2",
     "grade": false,
     "grade_id": "cell-c6e77ea0098d9295",
     "locked": true,
     "schema_version": 3,
     "solution": false,
     "task": false
    }
   },
   "source": [
    "How does the histogram calculation in `calculate_histogram` differ from creating 3 separate histograms, for R, G, and B individually? Would this alternative method (separate histograms) yield more or or less information about the image?"
   ]
  },
  {
   "cell_type": "markdown",
   "metadata": {
    "deletable": false,
    "nbgrader": {
     "cell_type": "markdown",
     "checksum": "36a8f0a2c88823b7342abb76a2de6735",
     "grade": true,
     "grade_id": "cell-7582c0855089a2b7",
     "locked": false,
     "points": 0,
     "schema_version": 3,
     "solution": true,
     "task": false
    }
   },
   "source": [
    "*POINTS: 0*\n",
    "\n",
    "YOUR ANSWER HERE"
   ]
  },
  {
   "cell_type": "markdown",
   "metadata": {
    "deletable": false,
    "editable": false,
    "nbgrader": {
     "cell_type": "markdown",
     "checksum": "2b3fa372a9dce95f78a033cb027ae443",
     "grade": false,
     "grade_id": "cell-096810fbf819ba25",
     "locked": true,
     "schema_version": 3,
     "solution": false,
     "task": false
    }
   },
   "source": [
    "## Foreground Probability Map\n",
    "\n",
    "The next step in the segmentation process is to estimate a probability map: For each pixel we want to estimate the probability that it belongs to the foreground. This will be used as basis for the unary potential.\n",
    "\n",
    "The function `foreground_pmap(im, fg_histogram, bg_histogram)` should take the image `im` and the two histograms `fg_histogram`, `bg_histogram` estimated from the foreground region and the background region respecively. It should return an array of shape $\\texttt{height}\\times\\texttt{width}$ containing the probability of each pixel belonging to the foreground. To estimate the required probability $p(c|[r, g, b])$ from the computed histograms, a class prior $p(c)$ of $0.5$ should be used, which means that both foreground and background pixels are equally likely a priori. \n",
    "\n",
    "Recall Bayes' theorem applied to this case:\n",
    "\n",
    "$$\n",
    "p(c\\ |\\ r,g,b) = \\frac{p(c) \\cdot p(r,g,b\\ |\\ c)}{p(r,g,b)} = \\frac{p(c)\\cdot p(r,g,b\\ |\\ c)}{\\sum_{\\tilde{c}} p(\\tilde{c}) \\cdot p(r,g,b\\ |\\ \\tilde{c}) }\n",
    "$$"
   ]
  },
  {
   "cell_type": "code",
   "execution_count": null,
   "metadata": {
    "deletable": false,
    "nbgrader": {
     "cell_type": "code",
     "checksum": "1e4704937b856904340803781c547e54",
     "grade": true,
     "grade_id": "cell-95f7f7212e4f293c",
     "locked": false,
     "points": 4,
     "schema_version": 3,
     "solution": true
    }
   },
   "outputs": [],
   "source": [
    "# POINTS: 4\n",
    "\n",
    "def foreground_pmap(im, fg_histogram, bg_histogram):\n",
    "    # YOUR CODE HERE\n",
    "    raise NotImplementedError()"
   ]
  },
  {
   "cell_type": "code",
   "execution_count": null,
   "metadata": {
    "deletable": false,
    "editable": false,
    "nbgrader": {
     "cell_type": "code",
     "checksum": "6c56fe4512ba2dd0c083fc1856e38b57",
     "grade": false,
     "grade_id": "cell-161811bcc3bd5263",
     "locked": true,
     "schema_version": 3,
     "solution": false,
     "task": false
    }
   },
   "outputs": [],
   "source": [
    "foreground_prob = foreground_pmap(im, fg_histogram, bg_histogram)\n",
    "fig, axes = plt.subplots(1, 2, figsize=(9.5,5), sharey=True)\n",
    "axes[0].imshow(im)\n",
    "axes[0].set_title('Input image')\n",
    "im_plot = axes[1].imshow(foreground_prob, cmap='viridis')\n",
    "axes[1].set_title('Foreground posterior probability')\n",
    "fig.tight_layout()\n",
    "fig.colorbar(im_plot, ax=axes)\n",
    "foreground_map = (foreground_prob > 0.5)\n",
    "fig.show()"
   ]
  },
  {
   "cell_type": "markdown",
   "metadata": {
    "deletable": false,
    "editable": false,
    "nbgrader": {
     "cell_type": "markdown",
     "checksum": "ac62a5d389a97ff6d9bdb1c93c33859c",
     "grade": false,
     "grade_id": "cell-a645a5f0eedbc4f9",
     "locked": true,
     "schema_version": 3,
     "solution": false,
     "task": false
    }
   },
   "source": [
    "Explain what you see in the probability map."
   ]
  },
  {
   "cell_type": "markdown",
   "metadata": {
    "deletable": false,
    "nbgrader": {
     "cell_type": "markdown",
     "checksum": "32684674eea0b4bfd2e8585890448a1e",
     "grade": true,
     "grade_id": "cell-35edc5393045eb8e",
     "locked": false,
     "points": 0,
     "schema_version": 3,
     "solution": true
    }
   },
   "source": [
    "*POINTS: 0*\n",
    "\n",
    "YOUR ANSWER HERE"
   ]
  },
  {
   "cell_type": "markdown",
   "metadata": {
    "deletable": false,
    "editable": false,
    "nbgrader": {
     "cell_type": "markdown",
     "checksum": "f97174f83651c0b3c813e16fcdaf3f9b",
     "grade": false,
     "grade_id": "cell-b4941d234b33f442",
     "locked": true,
     "schema_version": 3,
     "solution": false,
     "task": false
    }
   },
   "source": [
    "## Unary Potentials\n",
    "Use the previously computed probability map `foreground_map` to compute the unary potential for both foreground and background.\n",
    "\n",
    "This function `unary_potentials(probability_map, unary_weight)` shall use the `probability_map` and a scalar weighting factor to compute the unary potentials. It should return a matrix of the same size as the probability matrix."
   ]
  },
  {
   "cell_type": "code",
   "execution_count": null,
   "metadata": {
    "deletable": false,
    "nbgrader": {
     "cell_type": "code",
     "checksum": "e90dba98cd7792a42aaa5bf8cb7f964c",
     "grade": true,
     "grade_id": "cell-b49b5083d5721c0f",
     "locked": false,
     "points": 1,
     "schema_version": 3,
     "solution": true
    }
   },
   "outputs": [],
   "source": [
    "# POINTS: 1\n",
    "\n",
    "def unary_potentials(probability_map, unary_weight):\n",
    "    # YOUR CODE HERE\n",
    "    raise NotImplementedError()\n",
    "    \n",
    "unary_weight = 1\n",
    "unary_fg = unary_potentials(foreground_prob, unary_weight)\n",
    "unary_bg = unary_potentials(1 - foreground_prob, unary_weight)\n",
    "fig, axes = plt.subplots(1, 2, figsize=(9.5,5), sharey=True)\n",
    "axes[0].imshow(unary_fg)\n",
    "axes[0].set_title('Unary potentials (foreground)')\n",
    "im_plot = axes[1].imshow(unary_bg)\n",
    "axes[1].set_title('Unary potentials (background)')\n",
    "fig.tight_layout()\n",
    "fig.colorbar(im_plot, ax=axes)\n",
    "fig.show()"
   ]
  },
  {
   "cell_type": "markdown",
   "metadata": {
    "deletable": false,
    "editable": false,
    "nbgrader": {
     "cell_type": "markdown",
     "checksum": "1b91b1d45914a6f921c3a60b053ef540",
     "grade": false,
     "grade_id": "cell-c2d1fa35b22a4f7b",
     "locked": true,
     "schema_version": 3,
     "solution": false,
     "task": false
    }
   },
   "source": [
    "Why are the unary potentials for the foreground so small in the middle of the flower?"
   ]
  },
  {
   "cell_type": "markdown",
   "metadata": {
    "deletable": false,
    "nbgrader": {
     "cell_type": "markdown",
     "checksum": "61b12f1a1d1d4aadd18942274d1e7805",
     "grade": true,
     "grade_id": "cell-fe74e786d39d5cac",
     "locked": false,
     "points": 0,
     "schema_version": 3,
     "solution": true
    }
   },
   "source": [
    "*POINTS: 0*\n",
    "\n",
    "YOUR ANSWER HERE"
   ]
  },
  {
   "cell_type": "markdown",
   "metadata": {
    "deletable": false,
    "editable": false,
    "nbgrader": {
     "cell_type": "markdown",
     "checksum": "91b1ad8769497ada9f0f9f86bf605c79",
     "grade": false,
     "grade_id": "cell-f2e7690015dd426a",
     "locked": true,
     "schema_version": 3,
     "solution": false,
     "task": false
    }
   },
   "source": [
    "## Pairwise Potentials\n",
    "\n",
    "Create a function to compute the prefactor $w_p$ of the pairwise potential for two specific pixels. Implement the function below, where `im` is the image, `(x1, y1), (x2, y2)` are the pixel coordinates in the image and the last parameter is the weight $\\omega_p$ for the pairwise potential. (Do not confuse `(x1, y1), (x2, y2)` with the $X_j, Y_j$ from the top of the page. There $\\mathcal X$ was the label and $\\mathcal Y$ the pixel value, here they are the $x$ and $y$ coordinates in the image) \n",
    "\n",
    "Keep in mind that this prefactor does not depend on the labels and is therefore independent of $\\mathcal{X}$. The function signature is more general (see the contrast-sensitive Potts Model question later on), not all parameters are needed here. Note, that it is not computed here whether the given pixels are neighbours, as this is not part of the prefactor $\\omega_p$.\n",
    "\n",
    "*Hint:* the function is extremely simple."
   ]
  },
  {
   "cell_type": "code",
   "execution_count": null,
   "metadata": {
    "deletable": false,
    "nbgrader": {
     "cell_type": "code",
     "checksum": "5417fa6c5aeb6f567e05dec74b2ff8d7",
     "grade": true,
     "grade_id": "cell-c5fb31a66d81191c",
     "locked": false,
     "points": 1,
     "schema_version": 3,
     "solution": true
    }
   },
   "outputs": [],
   "source": [
    "# POINTS: 1\n",
    "\n",
    "def pairwise_potential_prefactor(im, x1, y1, x2, y2, pairwise_weight):\n",
    "    # YOUR CODE HERE\n",
    "    raise NotImplementedError()"
   ]
  },
  {
   "cell_type": "markdown",
   "metadata": {
    "deletable": false,
    "editable": false,
    "nbgrader": {
     "cell_type": "markdown",
     "checksum": "25fe8343aec5f19cda3b74b2af6a8551",
     "grade": false,
     "grade_id": "cell-59d63e8a6f9ee432",
     "locked": true,
     "schema_version": 3,
     "solution": false,
     "task": false
    }
   },
   "source": [
    "Using the functions from the previous task, implement a function to compute all the pairwise potentials for the image using 4-neighborhoods. That means only the top, bottom, left and right neighboring pixels should be connected to a given pixel.\n",
    "\n",
    "The function `pairwise_potentials` should return the `edges` (represented as index pairs) and an array `costs` containing the corresponding edge costs (i.e. the value of the pairwise potential prefactor). You have to use a linearized index instead of (x,y)-coordinates for the edge indices. A conversion function is supplied (`coords_to_index(x, y, width)`).\n",
    "\n",
    "Thus, `edges` should be an integer array of shape $k\\times 2$, while `costs` should have length $k$, where $k$ is the number of neighborhood-edges in the image grid."
   ]
  },
  {
   "cell_type": "code",
   "execution_count": null,
   "metadata": {
    "deletable": false,
    "nbgrader": {
     "cell_type": "code",
     "checksum": "54ba3db2838af2ab8bf0ec051f774178",
     "grade": true,
     "grade_id": "cell-d1c10b8c69f5ccbb",
     "locked": false,
     "points": 4,
     "schema_version": 3,
     "solution": true
    }
   },
   "outputs": [],
   "source": [
    "# POINTS: 4\n",
    "\n",
    "def coords_to_index(x, y, width):\n",
    "    return y * width + x\n",
    "\n",
    "def pairwise_potentials(im, pairwise_weight):\n",
    "    # YOUR CODE HERE\n",
    "    raise NotImplementedError()\n",
    "    return edges, costs\n",
    "\n",
    "pairwise_edges, pairwise_costs = pairwise_potentials(im, pairwise_weight=5)"
   ]
  },
  {
   "cell_type": "markdown",
   "metadata": {
    "deletable": false,
    "editable": false,
    "nbgrader": {
     "cell_type": "markdown",
     "checksum": "21c1bd998c4b8b9cb5fd4770ded2112e",
     "grade": false,
     "grade_id": "cell-7ba9dbb69bfbe818",
     "locked": true,
     "schema_version": 3,
     "solution": false,
     "task": false
    }
   },
   "source": [
    "Now you can execute the optimization procedure and plot the resulting labeling."
   ]
  },
  {
   "cell_type": "code",
   "execution_count": null,
   "metadata": {
    "deletable": false,
    "editable": false,
    "nbgrader": {
     "cell_type": "code",
     "checksum": "2b9a9444818ff03daf4b97d9005b088c",
     "grade": false,
     "grade_id": "cell-5022d107deabe13a",
     "locked": true,
     "schema_version": 3,
     "solution": false,
     "task": false
    }
   },
   "outputs": [],
   "source": [
    "def graph_cut(unary_fg, unary_bg, pairwise_edges, pairwise_costs):\n",
    "    if USE_NETWORKX:\n",
    "\n",
    "        graph = nx.Graph()\n",
    "        s = object()\n",
    "        t = object()\n",
    "\n",
    "        edges = []\n",
    "        for i, cost in enumerate(unary_bg.flat):\n",
    "            edges.append((s, i, cost))\n",
    "        for i, cost in enumerate(unary_fg.flat):\n",
    "            edges.append((i, t, cost))\n",
    "        for (i,j), cost in zip(pairwise_edges, pairwise_costs):\n",
    "            edges.append((i, j, cost))\n",
    "\n",
    "        graph.add_weighted_edges_from(edges, 'capacity')\n",
    "\n",
    "        nodes_connected_to_s = nx.minimum_cut(\n",
    "            graph, s, t, flow_func=preflow_push)[1][0]\n",
    "\n",
    "        fg_pixel_indices = list(set(nodes_connected_to_s) - {s})\n",
    "        labels = np.zeros_like(unary_fg, dtype=np.int)\n",
    "        labels.flat[fg_pixel_indices] = 1\n",
    "        return labels\n",
    "    else:\n",
    "        unaries = np.stack([unary_bg.flat, unary_fg.flat], axis=-1)\n",
    "        labels = pygco.cut_general_graph(\n",
    "            pairwise_edges, pairwise_costs, unaries, \n",
    "            1-np.eye(2), n_iter=-1, algorithm='swap')\n",
    "        return labels.reshape(unary_fg.shape)\n",
    "\n",
    "graph_cut_result = graph_cut(unary_fg, unary_bg, pairwise_edges, pairwise_costs)\n",
    "fig, axes = plt.subplots(1, 2, figsize=(9.5,5), sharey=True)\n",
    "axes[0].set_title('Thresholding of per-pixel foreground probability at 0.5')\n",
    "axes[0].imshow(draw_mask_on_image(im, foreground_prob>0.5))\n",
    "axes[1].set_title('Graph cut result')\n",
    "axes[1].imshow(draw_mask_on_image(im, graph_cut_result))\n",
    "fig.tight_layout()\n",
    "fig.show()"
   ]
  },
  {
   "cell_type": "markdown",
   "metadata": {
    "deletable": false,
    "editable": false,
    "nbgrader": {
     "cell_type": "markdown",
     "checksum": "caed07c2c7364134da97accc8e3519f4",
     "grade": false,
     "grade_id": "cell-182388c0f02e64b4",
     "locked": true,
     "schema_version": 3,
     "solution": false,
     "task": false
    }
   },
   "source": [
    "Explain what you see. Why is the segmentation the way it is? What happens if you change the pairwise weight in the previous cell?"
   ]
  },
  {
   "cell_type": "markdown",
   "metadata": {
    "deletable": false,
    "nbgrader": {
     "cell_type": "markdown",
     "checksum": "45b200919c2c6fdded0e99451b491791",
     "grade": true,
     "grade_id": "cell-9ae3813d75e1500b",
     "locked": false,
     "points": 0,
     "schema_version": 3,
     "solution": true
    }
   },
   "source": [
    "*POINTS: 0*\n",
    "\n",
    "YOUR ANSWER HERE"
   ]
  },
  {
   "cell_type": "markdown",
   "metadata": {
    "deletable": false,
    "editable": false,
    "nbgrader": {
     "cell_type": "markdown",
     "checksum": "e555c12330f8dd66f95833a2fb385006",
     "grade": false,
     "grade_id": "cell-dfac7aaddda25cc1",
     "locked": true,
     "schema_version": 3,
     "solution": false,
     "task": false
    }
   },
   "source": [
    "## [OPTIONAL] Try another image\n",
    "\n",
    "First, create a single function that runs the whole segmentation pipeline starting from the image and the initial regions.\n",
    "\n",
    "`segment_image(...)` should return the final binary segmentation mask with 1 at the foreground pixels and 0 at the background."
   ]
  },
  {
   "cell_type": "code",
   "execution_count": null,
   "metadata": {
    "deletable": false,
    "nbgrader": {
     "cell_type": "code",
     "checksum": "1713c7ceff06008a58cd1977d9a9bac8",
     "grade": true,
     "grade_id": "cell-fe2ce88a33cb65ea",
     "locked": false,
     "points": 0,
     "schema_version": 3,
     "solution": true
    }
   },
   "outputs": [],
   "source": [
    "# POINTS: 0\n",
    "\n",
    "def segment_image(im, init_fg_mask, init_bg_mask,\n",
    "                  unary_weight, pairwise_weight, n_bins):\n",
    "    # YOUR CODE HERE\n",
    "    raise NotImplementedError()"
   ]
  },
  {
   "cell_type": "code",
   "execution_count": null,
   "metadata": {
    "deletable": false,
    "nbgrader": {
     "cell_type": "code",
     "checksum": "3048d0971aae910a1aa4279cfd9902e5",
     "grade": true,
     "grade_id": "cell-eac3714d77c34a96",
     "locked": false,
     "points": 0,
     "schema_version": 3,
     "solution": true
    }
   },
   "outputs": [],
   "source": [
    "# POINTS: 0\n",
    "\n",
    "import skimage.data\n",
    "\n",
    "def run_on_another_image():\n",
    "    im = skimage.data.immunohistochemistry()\n",
    "    #im = imageio.imread('flowers.jpg')\n",
    "    #im = skimage.data.stereo_motorcycle()[0]\n",
    "    h, w = im.shape[:2]\n",
    "    fg_mask = np.zeros([h, w])\n",
    "    bg_mask = np.zeros([h, w])\n",
    "\n",
    "    # Set some appropriate parts of fg_mask and bg_mask to 1 for initialization.\n",
    "    # YOUR CODE HERE\n",
    "    raise NotImplementedError()\n",
    "\n",
    "    graph_cut_result = segment_image(\n",
    "        im, fg_mask, bg_mask, \n",
    "        unary_weight=1, pairwise_weight=1, n_bins=8)\n",
    "    \n",
    "    fig, axes = plt.subplots(1, 3, figsize=(9.5,5), sharey=True)\n",
    "    axes[0].set_title('Initial foreground mask')\n",
    "    axes[0].imshow(draw_mask_on_image(im, fg_mask))\n",
    "    axes[1].set_title('Initial background mask')\n",
    "    axes[1].imshow(draw_mask_on_image(im, bg_mask))\n",
    "    axes[2].set_title('Graph cut result')\n",
    "    axes[2].imshow(draw_mask_on_image(im, graph_cut_result))\n",
    "    fig.tight_layout()\n",
    "    fig.show()\n",
    "    \n",
    "run_on_another_image()"
   ]
  },
  {
   "cell_type": "markdown",
   "metadata": {
    "deletable": false,
    "editable": false,
    "nbgrader": {
     "cell_type": "markdown",
     "checksum": "15bb404eacb7da6b464e083eac7d2e22",
     "grade": false,
     "grade_id": "cell-39b384473ea64f3e",
     "locked": true,
     "schema_version": 3,
     "solution": false,
     "task": false
    }
   },
   "source": [
    "Does it look good? Which parameter would you need to change to reduce the number of holes in the segmentation? Try it.\n",
    "\n",
    "Now try segmenting `im = skimage.data.stereo_motorcycle()[0]` using this technique. Can you segment out the motorbike by fiddling with the parameters? Why or why not?"
   ]
  },
  {
   "cell_type": "markdown",
   "metadata": {
    "deletable": false,
    "nbgrader": {
     "cell_type": "markdown",
     "checksum": "e22d85784d8e6f5c5638603773a8c3bc",
     "grade": true,
     "grade_id": "cell-617f9e4ec2788e1c",
     "locked": false,
     "points": 0,
     "schema_version": 3,
     "solution": true,
     "task": false
    }
   },
   "source": [
    "*POINTS: 0*\n",
    "\n",
    "YOUR ANSWER HERE"
   ]
  },
  {
   "cell_type": "markdown",
   "metadata": {
    "deletable": false,
    "editable": false,
    "nbgrader": {
     "cell_type": "markdown",
     "checksum": "1f449e91477ad27ccdf6bca7c9766c9e",
     "grade": false,
     "grade_id": "cell-0bfe65988743250c",
     "locked": true,
     "schema_version": 3,
     "solution": false,
     "task": false
    }
   },
   "source": [
    "## [OPTIONAL] Contrast-Sensitive Potts Model\n",
    "Go back to the `pairwise_potential_prefactor` function and modify it to incorporate a new term, resulting in the so-called *contrast sensitive Potts model*. The new pairwise potential should be:\n",
    "\n",
    "$$\n",
    "\\psi_p (X_i,X_j,Y_i,Y_j,i,j)=\\omega_p\\cdot \\exp\\left(-\\omega_d\\|Y_i - Y_j\\|^2\\right)\\cdot \n",
    "\\begin{cases}\n",
    "1,&\\text{if } X_i \\neq X_j \\text{ and } i,j \\text{ are neighbors}  \\\\\n",
    "0,&\\text{otherwise}\n",
    "\\end{cases}\n",
    "$$\n",
    "\n",
    "This means the prefactor is now $\\omega_p\\cdot \\exp\\left(-\\omega_d\\|Y_i - Y_j\\|^2\\right)$. For simplicity, you can hardcode the parameter $\\omega_d$. "
   ]
  },
  {
   "cell_type": "markdown",
   "metadata": {
    "deletable": false,
    "editable": false,
    "nbgrader": {
     "cell_type": "markdown",
     "checksum": "cb2ebac29c8bb375ee055ddeaead59e8",
     "grade": false,
     "grade_id": "cell-9600ef2c30ad440d",
     "locked": true,
     "schema_version": 3,
     "solution": false,
     "task": false
    }
   },
   "source": [
    "What changes when using the contrast sensitive Potts model? What is the intuition behind adding this new term?"
   ]
  },
  {
   "cell_type": "markdown",
   "metadata": {
    "deletable": false,
    "nbgrader": {
     "cell_type": "markdown",
     "checksum": "17108d5079590e8a99c2904063f0169f",
     "grade": true,
     "grade_id": "cell-b349dae73ad633f2",
     "locked": false,
     "points": 0,
     "schema_version": 3,
     "solution": true
    }
   },
   "source": [
    "*POINTS: 0*\n",
    "\n",
    "YOUR ANSWER HERE"
   ]
  },
  {
   "cell_type": "markdown",
   "metadata": {
    "deletable": false,
    "editable": false,
    "nbgrader": {
     "cell_type": "markdown",
     "checksum": "260bb2a23ca506b8ef6fcdad4467b742",
     "grade": false,
     "grade_id": "cell-e5a91dd392fb61a8",
     "locked": true,
     "schema_version": 3,
     "solution": false,
     "task": false
    }
   },
   "source": [
    "## [OPTIONAL] Iterative Segmentation\n",
    "\n",
    "We can make the result better if we iterate the labeling process several times. Implement `iterative_opt`, a method to execute the optimization process iteratively. \n",
    "\n",
    "Use the previously computed labeling as initial segmentation (instead of the rectangular masks we used above) and estimate new models (histograms and unaries) for foreground and background based on these. Solve the graph cut problem and use the resulting segmentation in the next iteration."
   ]
  },
  {
   "cell_type": "code",
   "execution_count": null,
   "metadata": {
    "deletable": false,
    "nbgrader": {
     "cell_type": "code",
     "checksum": "fccfa973013c047763924da2100be70f",
     "grade": true,
     "grade_id": "cell-2ce5215dc845ca7b",
     "locked": false,
     "points": 0,
     "schema_version": 3,
     "solution": true
    }
   },
   "outputs": [],
   "source": [
    "# POINTS: 0\n",
    "\n",
    "def iterative_opt(im, fg_mask, n_bins, unary_weight,\n",
    "                  pairwise_edges, pairwise_costs, n_iter):\n",
    "    # YOUR CODE HERE\n",
    "    raise NotImplementedError()\n",
    "\n",
    "labels_5 = iterative_opt(\n",
    "    im, graph_cut_result, n_bins, unary_weight, pairwise_edges, pairwise_costs, n_iter=5)\n",
    "labels_10 = iterative_opt(\n",
    "    im, labels_5, n_bins, unary_weight, pairwise_edges, pairwise_costs, n_iter=5)\n",
    "\n",
    "fig, axes = plt.subplots(1, 3, figsize=(9.5,4), sharex=True, sharey=True)\n",
    "axes[0].set_title('Initial')\n",
    "axes[0].imshow(draw_mask_on_image(im, graph_cut_result))\n",
    "axes[1].set_title(f'After 5 iterations')\n",
    "axes[1].imshow(draw_mask_on_image(im, labels_5))\n",
    "axes[2].set_title(f'After 10 iterations')\n",
    "axes[2].imshow(draw_mask_on_image(im, labels_10))\n",
    "fig.tight_layout()\n",
    "fig.show()"
   ]
  },
  {
   "cell_type": "markdown",
   "metadata": {
    "deletable": false,
    "editable": false,
    "nbgrader": {
     "cell_type": "markdown",
     "checksum": "6da63862f9cba16a82a588c3f837aeef",
     "grade": false,
     "grade_id": "cell-1214a5750141d8e0",
     "locked": true,
     "schema_version": 3,
     "solution": false,
     "task": false
    }
   },
   "source": [
    "How did the labeling change? Do you have an explanation why?"
   ]
  },
  {
   "cell_type": "markdown",
   "metadata": {
    "deletable": false,
    "nbgrader": {
     "cell_type": "markdown",
     "checksum": "57b8a6e86e7c382ac0c1fdd325a97381",
     "grade": true,
     "grade_id": "cell-070840fac2ef0f43",
     "locked": false,
     "points": 0,
     "schema_version": 3,
     "solution": true
    }
   },
   "source": [
    "*POINTS: 0*\n",
    "\n",
    "YOUR ANSWER HERE"
   ]
  },
  {
   "cell_type": "markdown",
   "metadata": {
    "deletable": false,
    "editable": false,
    "nbgrader": {
     "cell_type": "markdown",
     "checksum": "ecefe8e57458d8b8504391ea80f124c6",
     "grade": false,
     "grade_id": "cell-ba95661a4bc8994a",
     "locked": true,
     "schema_version": 3,
     "solution": false,
     "task": false
    }
   },
   "source": [
    "## [OPTIONAL] Interactive Segmentation\n",
    "\n",
    "We can get even better results by incorporating user input into the iterative segmentation process you implemented above.\n",
    "\n",
    "Extend the given framework to allow the user to add or remove rectangular regions from the graph cut result. Then recalculate the foreground and background model according to new mask. Iterate this process until the user is satisfied with the result.\n",
    "\n",
    "For this, look up how to create interactive graphical interfaces using Matplotlib, see for example `matplotlib.widgets.RectangleSelector` and `matplotlib.widgets.Button`."
   ]
  },
  {
   "cell_type": "code",
   "execution_count": null,
   "metadata": {
    "deletable": false,
    "nbgrader": {
     "cell_type": "code",
     "checksum": "801aed794808b1eec8c270c1b8bb19fa",
     "grade": true,
     "grade_id": "cell-4d1f1ca28f5d8b56",
     "locked": false,
     "points": 0,
     "schema_version": 3,
     "solution": true
    }
   },
   "outputs": [],
   "source": [
    "# POINTS: 0\n",
    "\n",
    "# YOUR CODE HERE\n",
    "raise NotImplementedError()"
   ]
  },
  {
   "cell_type": "code",
   "execution_count": null,
   "metadata": {},
   "outputs": [],
   "source": []
  }
 ],
 "metadata": {
  "interpreter": {
   "hash": "1489737549842a4c39b2c94cc161d2fdcebf98c100720c21f95fa84d93d8af8f"
  },
  "kernelspec": {
   "display_name": "Python 3.9.7 ('base')",
   "language": "python",
   "name": "python3"
  },
  "language_info": {
   "codemirror_mode": {
    "name": "ipython",
    "version": 3
   },
   "file_extension": ".py",
   "mimetype": "text/x-python",
   "name": "python",
   "nbconvert_exporter": "python",
   "pygments_lexer": "ipython3",
   "version": "3.9.7"
  }
 },
 "nbformat": 4,
 "nbformat_minor": 2
}
